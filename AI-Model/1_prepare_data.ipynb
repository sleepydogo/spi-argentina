{
 "cells": [
  {
   "attachments": {},
   "cell_type": "markdown",
   "metadata": {},
   "source": [
    "# Configurar directorios"
   ]
  },
  {
   "cell_type": "code",
   "execution_count": 1,
   "metadata": {},
   "outputs": [],
   "source": [
    "DATADIR = 'era5/' # directory containing downloaded era5 data\n",
    "FIREDATADIR = 'fire_danger/' # directory containing fire data\n",
    "DESTDIR = 'processed_data/' # directory to save .npy files for each time step and variable"
   ]
  },
  {
   "attachments": {},
   "cell_type": "markdown",
   "metadata": {},
   "source": [
    "# Cargar bibliotecas"
   ]
  },
  {
   "cell_type": "code",
   "execution_count": 2,
   "metadata": {},
   "outputs": [],
   "source": [
    "import numpy as np\n",
    "import netCDF4 as nc\n",
    "import os\n",
    "from tqdm.notebook import tqdm"
   ]
  },
  {
   "attachments": {},
   "cell_type": "markdown",
   "metadata": {},
   "source": [
    "# Variables de configuración"
   ]
  },
  {
   "cell_type": "code",
   "execution_count": 3,
   "metadata": {},
   "outputs": [],
   "source": [
    "vars = ['u10','v10','t2m','lai_hv','lai_lv','tp','fdimrk'] #considered variables (see 0_download_data.ipynb for long names)\n",
    "months = [(1,31),(2,28),(12,31)] # months + days in month in dowloaded era5 .nc files\n",
    "years = np.arange(2002,2023) # downloaded years"
   ]
  },
  {
   "attachments": {},
   "cell_type": "markdown",
   "metadata": {},
   "source": [
    "# Procesamiento de datos para crear archivos .npy"
   ]
  },
  {
   "cell_type": "code",
   "execution_count": null,
   "metadata": {},
   "outputs": [],
   "source": [
    "# Processing Data to create .npy files\n",
    "for var in vars:\n",
    "  if not os.path.exists(DESTDIR + f\"{var}\"):\n",
    "    os.makedirs(DESTDIR + f\"{var}\")\n",
    "  \n",
    "  for year in tqdm(years):\n",
    "    if var=='fdimrk':\n",
    "      root = nc.Dataset(FIREDATADIR + f\"{year:d}.nc\", 'r')\n",
    "    else:\n",
    "      root = nc.Dataset(DATADIR + f\"{year:d}.nc\", 'r')\n",
    "    v = root.variables[var][:,:-9,:-5] #crop to get to a size suitable for the considered Unet-like model, here 140x140\n",
    "    v = v.data\n",
    "    root.close()\n",
    "    if var in ['tp']: #change unit from m to mm for precipitation \n",
    "      v = 1000 * v\n",
    "    t = 0 # time step within v array that I am working on\n",
    "    for month, days in months:\n",
    "      for day in range(days):\n",
    "        np.save(DESTDIR + f\"{var}/{year}_{month:02d}_{day+1:02d}.npy\",v[t])\n",
    "        t += 1"
   ]
  },
  {
   "attachments": {},
   "cell_type": "markdown",
   "metadata": {},
   "source": [
    "# Guardar información de latitud/longitud"
   ]
  },
  {
   "cell_type": "code",
   "execution_count": 7,
   "metadata": {},
   "outputs": [],
   "source": [
    "root = nc.Dataset(DATADIR + f\"2002.nc\", 'r') #constant in time -> take from any year\n",
    "lat = root.variables['latitude'][:-9].data #crop to get to a size suitable for the considered Unet-like model\n",
    "lon = root.variables['longitude'][:-5].data \n",
    "np.save(DESTDIR + 'lat.npy', lat)\n",
    "np.save(DESTDIR + 'lon.npy', lon)"
   ]
  }
 ],
 "metadata": {
  "kernelspec": {
   "display_name": "venv",
   "language": "python",
   "name": "python3"
  },
  "language_info": {
   "codemirror_mode": {
    "name": "ipython",
    "version": 3
   },
   "file_extension": ".py",
   "mimetype": "text/x-python",
   "name": "python",
   "nbconvert_exporter": "python",
   "pygments_lexer": "ipython3",
   "version": "3.11.3"
  },
  "orig_nbformat": 4
 },
 "nbformat": 4,
 "nbformat_minor": 2
}
