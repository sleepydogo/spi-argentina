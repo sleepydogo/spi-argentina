{
 "cells": [
  {
   "attachments": {},
   "cell_type": "markdown",
   "metadata": {},
   "source": [
    "# Configurar directorios"
   ]
  },
  {
   "cell_type": "code",
   "execution_count": null,
   "metadata": {},
   "outputs": [],
   "source": [
    "DATADIR = 'processed_data/'"
   ]
  },
  {
   "attachments": {},
   "cell_type": "markdown",
   "metadata": {},
   "source": [
    "# Cargar bibliotecas"
   ]
  },
  {
   "cell_type": "code",
   "execution_count": null,
   "metadata": {},
   "outputs": [],
   "source": [
    "import numpy as np\n",
    "from tqdm.notebook import tqdm\n",
    "import os, gc"
   ]
  },
  {
   "attachments": {},
   "cell_type": "markdown",
   "metadata": {},
   "source": [
    "# Variables de configuración"
   ]
  },
  {
   "cell_type": "code",
   "execution_count": null,
   "metadata": {},
   "outputs": [],
   "source": [
    "vars = ['u10','v10','t2m','lai_hv','lai_lv','tp']\n",
    "target_vars = ['fdimrk']\n",
    "months = [1,2,12] \n",
    "val, test = [2015,2018], [2019,2022] #years to use for validation and testing, do not use these years to compute normalization constants\n",
    "train = [x for x in np.arange(2002,2015) if x not in val+test] "
   ]
  },
  {
   "attachments": {},
   "cell_type": "markdown",
   "metadata": {},
   "source": [
    "# Constantes de normalización para variables de entrada:"
   ]
  },
  {
   "cell_type": "code",
   "execution_count": null,
   "metadata": {},
   "outputs": [],
   "source": [
    "for var in vars:\n",
    "  tmp = [] #save values from all time steps and locations into this list and then compute mean and std\n",
    "  files = sorted(os.listdir(DATADIR+var)) #SHOULD NOT CONTAIN ANY OTHER FILES THAN THOSE CREATED IN 1_prepareData.ipynb\n",
    "  for f in tqdm(files):\n",
    "    y,m,d=f.split('_')\n",
    "    if int(y) in train and int(m) in months:\n",
    "      t_array = np.load(DATADIR+var+'/'+f)\n",
    "      t_array[np.isnan(t_array)] = 0\n",
    "      tmp += list(t_array.flatten())\n",
    "  mean, std = np.mean(tmp), np.std(tmp)\n",
    "  print(f'Mean {mean}, std {std}')\n",
    "  np.save(f'norm_consts/input_{var}.npy',np.array([mean, std]))\n",
    "del tmp\n",
    "gc.collect()"
   ]
  },
  {
   "attachments": {},
   "cell_type": "markdown",
   "metadata": {},
   "source": [
    "# Constantes de normalización para variables objetivo:"
   ]
  },
  {
   "cell_type": "code",
   "execution_count": null,
   "metadata": {},
   "outputs": [],
   "source": [
    "for var in target_vars:\n",
    "  tmp = [] #save values from all time steps and locations into this list and then compute mean and std\n",
    "  files = sorted(os.listdir(DATADIR+var)) #SHOULD NOT CONTAIN ANY OTHER FILES THAN THOSE CREATED IN 1_prepareData.ipynb\n",
    "  for f in tqdm(files):\n",
    "    y,m,d=f.split('_')\n",
    "    if int(y) in train and int(m) in months:\n",
    "      t_array = np.load(DATADIR+var+'/'+f)\n",
    "      t_array[np.isnan(t_array)] = 0      \n",
    "      tmp += list(t_array.flatten())\n",
    "  mean, std = np.mean(tmp), np.std(tmp)\n",
    "  print(f'Mean {mean}, std {std}')\n",
    "  np.save(f'norm_consts/target_{var}.npy',np.array([mean, std]))\n",
    "del tmp\n",
    "gc.collect()"
   ]
  }
 ],
 "metadata": {
  "kernelspec": {
   "display_name": "venv",
   "language": "python",
   "name": "python3"
  },
  "language_info": {
   "codemirror_mode": {
    "name": "ipython",
    "version": 3
   },
   "file_extension": ".py",
   "mimetype": "text/x-python",
   "name": "python",
   "nbconvert_exporter": "python",
   "pygments_lexer": "ipython3",
   "version": "3.11.3"
  },
  "orig_nbformat": 4
 },
 "nbformat": 4,
 "nbformat_minor": 2
}
